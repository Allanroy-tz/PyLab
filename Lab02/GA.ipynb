{
 "cells": [
  {
   "cell_type": "code",
   "execution_count": null,
   "metadata": {},
   "outputs": [],
   "source": [
    "#TODO:编码\n",
    "\n",
    "#TODO:解码\n",
    "\n",
    "#TODO:评价函数\n",
    "\n",
    "#TODO:选择函数\n",
    "\n",
    "#TODO:交叉变异\n"
   ]
  }
 ],
 "metadata": {
  "language_info": {
   "name": "python"
  },
  "orig_nbformat": 4
 },
 "nbformat": 4,
 "nbformat_minor": 2
}
