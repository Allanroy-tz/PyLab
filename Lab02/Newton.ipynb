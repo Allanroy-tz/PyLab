{
 "cells": [
  {
   "cell_type": "code",
   "execution_count": 2,
   "metadata": {},
   "outputs": [
    {
     "name": "stdout",
     "output_type": "stream",
     "text": [
      "(0.28, 99.79757848183863)\n",
      "(0.30315216091510133, 103.37693383081161)\n",
      "(0.2996103695188034, 103.50140166736651)\n",
      "(0.29962509735019643, 103.5014039872697)\n",
      "(0.2996250972778324, 103.50140398726897)\n",
      "(0.29962509727712294, 103.50140398726896)\n",
      "(0.29962509727854186, 103.50140398726896)\n",
      "(0.29962509727854186, 103.50140398726896)\n",
      "(0.29962509727854186, 103.50140398726896)\n",
      "(0.29962509727854186, 103.50140398726896)\n"
     ]
    }
   ],
   "source": [
    "import numpy as np\n",
    "x1=0.000001\n",
    "def mhumps(x):\n",
    "    return abs(-1/((x-0.3)**2+0.01)+1/((x-0.9)**2+0.04)-6)\n",
    "def newton(func,x0,k):\n",
    "    _k = 0\n",
    "    _xk = 0\n",
    "    _xi = x0\n",
    "    for i in range(k):\n",
    "        q = GetDer(func,_xi)\n",
    "        w = GetDoubelDer(func,_xi)\n",
    "        _xk = _xi - q/w\n",
    "        _xi=_xk\n",
    "        _k+=1\n",
    "    out =func(_xi)\n",
    "    return _xi,out\n",
    "def GetDer(func,x0):\n",
    "    out = (func(x0+x1)-func(x0))/x1\n",
    "    #TODO:求一阶导\n",
    "    \n",
    "    return out\n",
    "\n",
    "def GetDoubelDer(func,x0):\n",
    "    out = (GetDer(func,x0+x1)-GetDer(func,x0))/x1\n",
    "    return out\n",
    "for i in range(10):\n",
    "    print(newton(mhumps,0.28,i))\n"
   ]
  }
 ],
 "metadata": {
  "kernelspec": {
   "display_name": "Python 3.9.12 ('base')",
   "language": "python",
   "name": "python3"
  },
  "language_info": {
   "codemirror_mode": {
    "name": "ipython",
    "version": 3
   },
   "file_extension": ".py",
   "mimetype": "text/x-python",
   "name": "python",
   "nbconvert_exporter": "python",
   "pygments_lexer": "ipython3",
   "version": "3.9.12"
  },
  "orig_nbformat": 4,
  "vscode": {
   "interpreter": {
    "hash": "88279d2366fe020547cde40dd65aa0e3aa662a6ec1f3ca12d88834876c85e1a6"
   }
  }
 },
 "nbformat": 4,
 "nbformat_minor": 2
}
