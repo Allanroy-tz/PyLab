{
 "cells": [
  {
   "cell_type": "code",
   "execution_count": 33,
   "metadata": {},
   "outputs": [
    {
     "name": "stdout",
     "output_type": "stream",
     "text": [
      "(-17.431620067947744, 6.0002050471193575)\n",
      "(-21.167704334015237, 6.000116509611699)\n",
      "(-17.027596050024094, 6.000219482840401)\n",
      "(-16.05927036092992, 6.000260057663117)\n",
      "(-23.167875717366307, 6.000089488500001)\n",
      "(-3.988873438281704, 6.012565524575315)\n",
      "(0.9068026676881781, 16.327073351858516)\n",
      "(4.192682604453798, 5.974053196467492)\n",
      "(-15.735971003579843, 6.000275818780428)\n",
      "(4.192697891014756, 5.9740535289762375)\n"
     ]
    }
   ],
   "source": [
    "import numpy as np\n",
    "def mhumps(x):\n",
    "    return abs(-1/((x-0.3)**2+0.01)+1/((x-0.9)**2+0.04)-6)\n",
    "def newton(func,x0,k):\n",
    "    _k = 0\n",
    "    _xk = 0\n",
    "    _xi = x0\n",
    "    for i in range(k):\n",
    "        q = GetDer(func,_xi)\n",
    "        w = GetDoubelDer(func,_xi)\n",
    "        _xk = _xi - q/w\n",
    "        _xi=_xk\n",
    "        _k+=1\n",
    "    out =func(_xi)\n",
    "    return _xi,out\n",
    "x1=0.000001\n",
    "def GetDer(func,x0):\n",
    "    out = (func(x0+x1)-func(x0)+1e-10)/x1\n",
    "\n",
    "    return out\n",
    "\n",
    "def GetDoubelDer(func,x0):\n",
    "    out = (GetDer(func,x0+x1)-GetDer(func,x0)+1e-10)/x1\n",
    "\n",
    "    return out\n",
    "for i in range(10):\n",
    "    print(newton(mhumps,i-5,10))\n"
   ]
  }
 ],
 "metadata": {
  "kernelspec": {
   "display_name": "Python 3.9.12 ('base')",
   "language": "python",
   "name": "python3"
  },
  "language_info": {
   "codemirror_mode": {
    "name": "ipython",
    "version": 3
   },
   "file_extension": ".py",
   "mimetype": "text/x-python",
   "name": "python",
   "nbconvert_exporter": "python",
   "pygments_lexer": "ipython3",
   "version": "3.9.12"
  },
  "orig_nbformat": 4,
  "vscode": {
   "interpreter": {
    "hash": "88279d2366fe020547cde40dd65aa0e3aa662a6ec1f3ca12d88834876c85e1a6"
   }
  }
 },
 "nbformat": 4,
 "nbformat_minor": 2
}
