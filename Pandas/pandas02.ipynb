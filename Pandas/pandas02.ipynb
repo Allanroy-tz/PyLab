{
 "cells": [
  {
   "cell_type": "code",
   "execution_count": 4,
   "metadata": {},
   "outputs": [
    {
     "name": "stdout",
     "output_type": "stream",
     "text": [
      "------------原始数据------------\n",
      "   A  B  C  D\n",
      "0  1  5  8  8\n",
      "1  2  2  4  9\n",
      "2  7  4  2  3\n",
      "3  3  0  5  2\n",
      "------------对D这一列进行降序排序------------\n",
      "   A  B  C  D\n",
      "1  2  2  4  9\n",
      "0  1  5  8  8\n",
      "2  7  4  2  3\n",
      "3  3  0  5  2\n",
      "------------对3这一行进行降序排序------------\n",
      "   C  A  D  B\n",
      "1  4  2  9  2\n",
      "0  8  1  8  5\n",
      "2  2  7  3  4\n",
      "3  5  3  2  0\n",
      "写入成功\n"
     ]
    }
   ],
   "source": [
    "import pandas as pd\n",
    "\n",
    "# 使用嵌套列表创建DataFrame对象\n",
    "data = [\n",
    "    [1, 5, 8, 8],\n",
    "    [2, 2, 4, 9],\n",
    "    [7, 4, 2, 3],\n",
    "    [3, 0, 5, 2]\n",
    "]\n",
    "df = pd.DataFrame(data,columns=[\"A\",\"B\",\"C\",\"D\"])\n",
    "print(\"------------原始数据------------\")\n",
    "print(df)\n",
    "\n",
    "# 对D这一列进行降序排序，\n",
    "df.sort_values(by='D', ascending=False,inplace=True)\n",
    "print(\"------------对D这一列进行降序排序------------\")\n",
    "print(df)\n",
    "# 对3这一行进行降序排序\n",
    "df.sort_values(by=3, ascending=False,inplace=True,axis=1)\n",
    "print(\"------------对3这一行进行降序排序------------\")\n",
    "print(df)\n",
    "# 将排序后的数据写入csv文件，取名为data.csv\n",
    "path ='./Data/data.csv'\n",
    "df.to_csv(path, sep=',', index=False, header=False)\n",
    "print(\"写入成功\")\n"
   ]
  }
 ],
 "metadata": {
  "kernelspec": {
   "display_name": "Python 3.9.12 ('base')",
   "language": "python",
   "name": "python3"
  },
  "language_info": {
   "codemirror_mode": {
    "name": "ipython",
    "version": 3
   },
   "file_extension": ".py",
   "mimetype": "text/x-python",
   "name": "python",
   "nbconvert_exporter": "python",
   "pygments_lexer": "ipython3",
   "version": "3.9.12"
  },
  "orig_nbformat": 4,
  "vscode": {
   "interpreter": {
    "hash": "88279d2366fe020547cde40dd65aa0e3aa662a6ec1f3ca12d88834876c85e1a6"
   }
  }
 },
 "nbformat": 4,
 "nbformat_minor": 2
}
