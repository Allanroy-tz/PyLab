{
 "cells": [
  {
   "cell_type": "code",
   "execution_count": 3,
   "metadata": {},
   "outputs": [
    {
     "name": "stdout",
     "output_type": "stream",
     "text": [
      "      一本分数线         二本分数线       \n",
      "         文科     理科     文科     理科\n",
      "2018  576.0  532.0  488.0  432.0\n",
      "2017  555.0  537.0  468.0  439.0\n",
      "2016  583.0  548.0  532.0  494.0\n",
      "2015  579.0  548.0  527.0    NaN\n",
      "2014  565.0  543.0  507.0    NaN\n",
      "2013  549.0  550.0  494.0  505.0\n",
      "2012  495.0  477.0    NaN  433.0\n",
      "2011  524.0  484.0  481.0  435.0\n",
      "2010    NaN  494.0  474.0    NaN\n",
      "2009  532.0  501.0  489.0  459.0\n",
      "2008  515.0  502.0  472.0  455.0\n",
      "2007  528.0    NaN  489.0  478.0\n",
      "2006  516.0  528.0  476.0  476.0\n",
      "------------ffill--------------\n",
      "      一本分数线         二本分数线       \n",
      "         文科     理科     文科     理科\n",
      "2018  576.0  532.0  488.0  432.0\n",
      "2017  555.0  537.0  468.0  439.0\n",
      "2016  583.0  548.0  532.0  494.0\n",
      "2015  579.0  548.0  527.0  494.0\n",
      "2014  565.0  543.0  507.0  494.0\n",
      "2013  549.0  550.0  494.0  505.0\n",
      "2012  495.0  477.0  494.0  433.0\n",
      "2011  524.0  484.0  481.0  435.0\n",
      "2010  524.0  494.0  474.0  435.0\n",
      "2009  532.0  501.0  489.0  459.0\n",
      "2008  515.0  502.0  472.0  455.0\n",
      "2007  528.0  502.0  489.0  478.0\n",
      "2006  516.0  528.0  476.0  476.0\n",
      "------------bfill----------------\n",
      "      一本分数线         二本分数线       \n",
      "         文科     理科     文科     理科\n",
      "2018  576.0  532.0  488.0  432.0\n",
      "2017  555.0  537.0  468.0  439.0\n",
      "2016  583.0  548.0  532.0  494.0\n",
      "2015  579.0  548.0  527.0  505.0\n",
      "2014  565.0  543.0  507.0  505.0\n",
      "2013  549.0  550.0  494.0  505.0\n",
      "2012  495.0  477.0  481.0  433.0\n",
      "2011  524.0  484.0  481.0  435.0\n",
      "2010  532.0  494.0  474.0  459.0\n",
      "2009  532.0  501.0  489.0  459.0\n",
      "2008  515.0  502.0  472.0  455.0\n",
      "2007  528.0  528.0  489.0  478.0\n",
      "2006  516.0  528.0  476.0  476.0\n",
      "------------nearest-----------------\n",
      "      一本分数线         二本分数线       \n",
      "         文科     理科     文科     理科\n",
      "2018  576.0  532.0  488.0  432.0\n",
      "2017  555.0  537.0  468.0  439.0\n",
      "2016  583.0  548.0  532.0  494.0\n",
      "2015  579.0  548.0  527.0  494.0\n",
      "2014  565.0  543.0  507.0  505.0\n",
      "2013  549.0  550.0  494.0  505.0\n",
      "2012  495.0  477.0  481.0  433.0\n",
      "2011  524.0  484.0  481.0  435.0\n",
      "2010  532.0  494.0  474.0  459.0\n",
      "2009  532.0  501.0  489.0  459.0\n",
      "2008  515.0  502.0  472.0  455.0\n",
      "2007  528.0  528.0  489.0  478.0\n",
      "2006  516.0  528.0  476.0  476.0\n"
     ]
    }
   ],
   "source": [
    "import pandas as pd\n",
    "import numpy as np\n",
    "\n",
    "# 读取excel表格\n",
    "excelFile = './Data/scores_u.xlsx'\n",
    "df = pd.DataFrame(pd.read_excel(excelFile,header=[0,1],index_col=0))\n",
    "print(df)\n",
    "print(\"------------ffill--------------\")\n",
    "# 1. ffill 向后填充，将NAN前的值填充给NAN，如果NAN之前没有数据了就依然还是缺失值NAN\n",
    "df_ffill = df.fillna(method=\"ffill\") \n",
    "print(df_ffill)\n",
    "print(\"------------bfill----------------\")\n",
    "# 2. bfill 向后填充，将NAN后的值填充给NAN，如果NAN之后没有数据了就依然还是缺失值NAN\n",
    "df_bfill = df.fillna(method=\"bfill\")\n",
    "print(df_bfill)\n",
    "print(\"------------nearest-----------------\")\n",
    "# 3. nearest\n",
    "df_nearest = df.interpolate(method=\"nearest\")\n",
    "print(df_nearest)\n",
    "\n"
   ]
  },
  {
   "cell_type": "code",
   "execution_count": 59,
   "metadata": {},
   "outputs": [],
   "source": [
    "a=np.zeros(4)\n",
    "b=np.zeros(4)\n",
    "def gradient(Data):\n",
    "    aa=np.zeros(4)\n",
    "    bb=np.zeros(4)\n",
    "    for i in range(0,12):\n",
    "        x = 2018-i\n",
    "        y=Data[i]\n",
    "        aa+=((a*x + b)-y)*x\n",
    "        bb+=((a*x + b)-y)\n",
    "    return aa,bb"
   ]
  },
  {
   "cell_type": "code",
   "execution_count": null,
   "metadata": {},
   "outputs": [],
   "source": [
    "data = np.array(df_nearest)\n",
    "num= 20000\n",
    "lr=0.000000001\n",
    "for i in range(num):\n",
    "    aa,bb = gradient(data)\n",
    "    a=a-(lr*aa)\n",
    "    b=b-(lr*bb)\n"
   ]
  },
  {
   "cell_type": "code",
   "execution_count": 68,
   "metadata": {},
   "outputs": [
    {
     "name": "stdout",
     "output_type": "stream",
     "text": [
      "------------2019年高考成绩------------\n",
      "         文科一本        理科一本        文科二本        理科二本\n",
      "0  546.207841  522.037468  493.433081  467.170388\n"
     ]
    },
    {
     "name": "stderr",
     "output_type": "stream",
     "text": [
      "C:\\Users\\t'z\\AppData\\Local\\Temp\\ipykernel_20112\\2606982326.py:4: FutureWarning: Could not cast to int32, falling back to object. This behavior is deprecated. In a future version, when a dtype is passed to 'DataFrame', either all columns will be cast to that dtype, or a TypeError will be raised.\n",
      "  G2019=pd.DataFrame(data,dtype=int)\n"
     ]
    }
   ],
   "source": [
    "print(\"------------2019年高考成绩------------\")\n",
    "data={\"文科一本\":[a[0]*2019+b[0]],\"理科一本\":[a[1]*2019+b[1]],\"文科二本\":[a[2]*2019+b[2]],\"理科二本\":[a[3]*2019+b[3]]}\n",
    "\n",
    "G2019=pd.DataFrame(data,dtype=int)\n",
    "print(G2019)"
   ]
  }
 ],
 "metadata": {
  "kernelspec": {
   "display_name": "Python 3.9.12 ('base')",
   "language": "python",
   "name": "python3"
  },
  "language_info": {
   "codemirror_mode": {
    "name": "ipython",
    "version": 3
   },
   "file_extension": ".py",
   "mimetype": "text/x-python",
   "name": "python",
   "nbconvert_exporter": "python",
   "pygments_lexer": "ipython3",
   "version": "3.9.12"
  },
  "orig_nbformat": 4,
  "vscode": {
   "interpreter": {
    "hash": "88279d2366fe020547cde40dd65aa0e3aa662a6ec1f3ca12d88834876c85e1a6"
   }
  }
 },
 "nbformat": 4,
 "nbformat_minor": 2
}
