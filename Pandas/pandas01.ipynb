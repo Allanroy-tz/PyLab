{
 "cells": [
  {
   "cell_type": "code",
   "execution_count": 5,
   "metadata": {},
   "outputs": [
    {
     "name": "stdout",
     "output_type": "stream",
     "text": [
      "            专业名称 专业代码 专业大类  专业小类               操作\n",
      "0             哲学类      101     哲学    哲学类  开设院校 加入对比\n",
      "1               哲学    10101     哲学    哲学类  开设院校 加入对比\n",
      "2             逻辑学    10102     哲学    哲学类  开设院校 加入对比\n",
      "3             宗教学    10103     哲学    哲学类  开设院校 加入对比\n",
      "4             伦理学    10104     哲学    哲学类  开设院校 加入对比\n",
      "5           经济学类      201   经济学  经济学类  开设院校 加入对比\n",
      "6             经济学    20101   经济学  经济学类  开设院校 加入对比\n",
      "7         经济统计学    20102   经济学  经济学类  开设院校 加入对比\n",
      "8       国民经济管理    20103   经济学  经济学类  开设院校 加入对比\n",
      "9   资源与环境经济学    20104   经济学  经济学类  开设院校 加入对比\n",
      "10        商务经济学    20105   经济学  经济学类  开设院校 加入对比\n",
      "11          能源经济    20106   经济学  经济学类  开设院校 加入对比\n",
      "12        劳动经济学    20107   经济学  经济学类  开设院校 加入对比\n",
      "13          经济工程    20108   经济学  经济学类  开设院校 加入对比\n",
      "14          数字经济    20109   经济学  经济学类  开设院校 加入对比\n",
      "15          财政学类      202   经济学  财政学类  开设院校 加入对比\n",
      "16            财政学    20201   经济学  财政学类  开设院校 加入对比\n",
      "17            税收学    20202   经济学  财政学类  开设院校 加入对比\n",
      "18          金融学类      203   经济学  金融学类  开设院校 加入对比\n",
      "19            金融学    20301   经济学  金融学类  开设院校 加入对比\n"
     ]
    }
   ],
   "source": [
    "import pandas as pd\n",
    "import requests\n",
    "\n",
    "#读取数据\n",
    "html_data = requests.get('http://kaoshi.edu.sina.com.cn/college/majorlist/')\n",
    "html_table_data = pd.read_html(html_data.content,encoding='utf-8')\n",
    "\n",
    "pd.set_option('display.unicode.ambiguous_as_wide', True)\n",
    "pd.set_option('display.unicode.east_asian_width', True)\n",
    "pd.set_option('display.width', 250) # 设置打印宽度\n",
    "\n",
    "df = html_table_data[1]\n",
    "df.columns = list(df.iloc[0]) # 重新设置列索引为第一行数据\n",
    "df = df.drop([0])  # 删除第一行\n",
    "df.reset_index(drop=True, inplace= True) # 重置行索引，就会重新从0开始\n",
    "\n",
    "df[\"专业代码\"] = df[\"专业代码\"].apply(lambda str:str.strip('0')) # 使用apply函数遍历操作\n",
    "print(df)\n",
    "\n",
    "\n"
   ]
  }
 ],
 "metadata": {
  "kernelspec": {
   "display_name": "Python 3.9.12 ('base')",
   "language": "python",
   "name": "python3"
  },
  "language_info": {
   "codemirror_mode": {
    "name": "ipython",
    "version": 3
   },
   "file_extension": ".py",
   "mimetype": "text/x-python",
   "name": "python",
   "nbconvert_exporter": "python",
   "pygments_lexer": "ipython3",
   "version": "3.9.12"
  },
  "orig_nbformat": 4,
  "vscode": {
   "interpreter": {
    "hash": "88279d2366fe020547cde40dd65aa0e3aa662a6ec1f3ca12d88834876c85e1a6"
   }
  }
 },
 "nbformat": 4,
 "nbformat_minor": 2
}
