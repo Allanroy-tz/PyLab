{
 "cells": [
  {
   "cell_type": "code",
   "execution_count": 72,
   "metadata": {},
   "outputs": [
    {
     "name": "stdout",
     "output_type": "stream",
     "text": [
      "2.5e-13\n"
     ]
    }
   ],
   "source": [
    "import numpy as np\n",
    "x1=0.000001\n",
    "def newton(func,x0,k):\n",
    "    _k = 0\n",
    "    _xk = 0\n",
    "    _xi = x0\n",
    "    for i in range(k):\n",
    "        q = GetDer(func,_xi)\n",
    "        w = GetDoubelDer(func,_xi)\n",
    "        _xk = _xi - q/w\n",
    "        _xi=_xk\n",
    "        _k+=1\n",
    "    out =Calculate(func,_xk)\n",
    "    return out\n",
    "def Calculate(func,x0):\n",
    "    out =0\n",
    "    x=x0\n",
    "    out = eval(func)\n",
    "    #TODO:计算函数\n",
    "    \n",
    "    return out\n",
    "def GetDer(func,x0):\n",
    "    \n",
    "    out = (Calculate(func,x0+x1)-Calculate(func,x0))/x1\n",
    "    #TODO:求一阶导\n",
    "    \n",
    "    return out\n",
    "\n",
    "def GetDoubelDer(func,x0):\n",
    "    out = (GetDer(func,x0+x1)-GetDer(func,x0))/x1\n",
    "    return out\n",
    "\n",
    "print(newton('x*x',10,100))"
   ]
  }
 ],
 "metadata": {
  "kernelspec": {
   "display_name": "Python 3.9.12 ('base')",
   "language": "python",
   "name": "python3"
  },
  "language_info": {
   "codemirror_mode": {
    "name": "ipython",
    "version": 3
   },
   "file_extension": ".py",
   "mimetype": "text/x-python",
   "name": "python",
   "nbconvert_exporter": "python",
   "pygments_lexer": "ipython3",
   "version": "3.9.12"
  },
  "orig_nbformat": 4,
  "vscode": {
   "interpreter": {
    "hash": "88279d2366fe020547cde40dd65aa0e3aa662a6ec1f3ca12d88834876c85e1a6"
   }
  }
 },
 "nbformat": 4,
 "nbformat_minor": 2
}
